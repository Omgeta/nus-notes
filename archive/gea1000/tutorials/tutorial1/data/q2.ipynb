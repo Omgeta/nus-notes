{
 "cells": [
  {
   "cell_type": "code",
   "execution_count": 3,
   "metadata": {},
   "outputs": [],
   "source": [
    "import pandas as pd\n",
    "import chardet\n",
    "import matplotlib.pyplot as plt\n",
    "import seaborn as sns\n",
    "import random"
   ]
  },
  {
   "cell_type": "markdown",
   "metadata": {},
   "source": [
    "# Reading the dataset"
   ]
  },
  {
   "cell_type": "code",
   "execution_count": 4,
   "metadata": {},
   "outputs": [
    {
     "name": "stdout",
     "output_type": "stream",
     "text": [
      "     school sex famsize Pstatus             Momedu             Dadedu  \\\n",
      "0  School A   F     GT3       A  University Degree  University Degree   \n",
      "1  School A   F     GT3       T     Primary School     Primary School   \n",
      "2  School A   F     LE3       T     Primary School     Primary School   \n",
      "3  School A   F     GT3       T  University Degree   Secondary School   \n",
      "4  School A   F     GT3       T     Post-Secondary     Post-Secondary   \n",
      "\n",
      "      Mjob      Fjob  traveltime (hrs) parentalhelp tuition higher romantic  \\\n",
      "0  at_home   teacher                 2           no      no    yes       no   \n",
      "1  at_home     other                 1          yes      no    yes       no   \n",
      "2  at_home     other                 1           no     yes    yes       no   \n",
      "3   health  services                 1          yes     yes    yes      yes   \n",
      "4    other     other                 1          yes     yes    yes       no   \n",
      "\n",
      "   famrel  health  absences  mathscore  Unnamed: 17  \n",
      "0       4       3         6         17          NaN  \n",
      "1       5       3         4         16          NaN  \n",
      "2       4       3        10         25          NaN  \n",
      "3       3       5         2         44          NaN  \n",
      "4       4       5         4         26          NaN  \n",
      "       school sex famsize Pstatus             Momedu            Dadedu  \\\n",
      "344  School A   F     GT3       T   Secondary School    Post-Secondary   \n",
      "345  School A   F     GT3       T     Post-Secondary  Secondary School   \n",
      "346  School A   M     GT3       T  University Degree    Post-Secondary   \n",
      "347  School A   M     GT3       T  University Degree    Post-Secondary   \n",
      "348  School A   F     GT3       T  University Degree    Post-Secondary   \n",
      "\n",
      "        Mjob      Fjob  traveltime (hrs) parentalhelp tuition higher romantic  \\\n",
      "344  at_home     other                 1          yes      no    yes       no   \n",
      "345    other  services                 1           no      no    yes      yes   \n",
      "346  teacher  services                 1           no      no    yes      yes   \n",
      "347  teacher     other                 1          yes     yes    yes      yes   \n",
      "348   health     other                 1          yes     yes    yes      yes   \n",
      "\n",
      "     famrel  health  absences  mathscore  Unnamed: 17  \n",
      "344       4       3         4         31          NaN  \n",
      "345       5       1         7         40          NaN  \n",
      "346       5       4         9         47          NaN  \n",
      "347       5       5         0         29          NaN  \n",
      "348       4       4         0         43          NaN  \n"
     ]
    }
   ],
   "source": [
    "# Load the dataset\n",
    "with open('./School A.csv', 'rb') as f:\n",
    "    result = chardet.detect(f.read())\n",
    "\n",
    "a = pd.read_csv('./School A.csv', encoding=result['encoding'])\n",
    "\n",
    "print(a.head())\n",
    "print(a.tail())"
   ]
  },
  {
   "cell_type": "markdown",
   "metadata": {},
   "source": [
    "# Analysis"
   ]
  },
  {
   "cell_type": "code",
   "execution_count": 5,
   "metadata": {},
   "outputs": [
    {
     "name": "stdout",
     "output_type": "stream",
     "text": [
      "Family size more than 3:  0.72\n",
      "Receiving tuition:  0.46\n",
      "Mothers with degree:  0.34\n",
      "In a romantic relationship:  0.32\n"
     ]
    }
   ],
   "source": [
    "# Find proprtions up to 2 dp\n",
    "def getProportion(df, condition):\n",
    "    return round(df[condition].shape[0] / df.shape[0], 2)\n",
    "\n",
    "def printAnalysis(df):\n",
    "    print(\"Family size more than 3: \", getProportion(df, lambda a: a['famsize'] == 'GT3'))\n",
    "    print(\"Receiving tuition: \", getProportion(df, lambda a: a['tuition'] == 'yes'))\n",
    "    print(\"Mothers with degree: \", getProportion(df, lambda a: a['Momedu'] == \"University Degree\" if \"Momedu\" in a else a[\"Medu\"] == \"University Degree\"))\n",
    "    print(\"In a romantic relationship: \", getProportion(df, lambda a: a['romantic'] == 'yes'))\n",
    "\n",
    "printAnalysis(a)"
   ]
  },
  {
   "cell_type": "markdown",
   "metadata": {},
   "source": [
    "# Random Assignment"
   ]
  },
  {
   "cell_type": "code",
   "execution_count": 6,
   "metadata": {},
   "outputs": [
    {
     "name": "stdout",
     "output_type": "stream",
     "text": [
      "Students in control group:  171\n",
      "Students in treatment group:  178\n"
     ]
    }
   ],
   "source": [
    "# Assign a new column to the dataframe, each student is randomly assigned 0 or 1\n",
    "def split(df):\n",
    "    df[\"Random assignment\"] = random.choices([0, 1], k=df.shape[0])\n",
    "    control = df[df[\"Random assignment\"] == 0]\n",
    "    treatment = df[df[\"Random assignment\"] == 1]\n",
    "    return control, treatment\n",
    "\n",
    "control, treatment = split(a)\n",
    "print(\"Students in control group: \", control.shape[0])\n",
    "print(\"Students in treatment group: \", treatment.shape[0])"
   ]
  },
  {
   "cell_type": "code",
   "execution_count": 7,
   "metadata": {},
   "outputs": [
    {
     "name": "stdout",
     "output_type": "stream",
     "text": [
      "Control group analysis\n",
      "Family size more than 3:  0.7\n",
      "Receiving tuition:  0.49\n",
      "Mothers with degree:  0.35\n",
      "In a romantic relationship:  0.31\n",
      "======\n",
      "Treatment group analysis\n",
      "Family size more than 3:  0.75\n",
      "Receiving tuition:  0.43\n",
      "Mothers with degree:  0.34\n",
      "In a romantic relationship:  0.34\n"
     ]
    }
   ],
   "source": [
    "# Analyze the control group\n",
    "print(\"Control group analysis\")\n",
    "printAnalysis(control)\n",
    "print(\"======\")\n",
    "# Analyze the treatment group\n",
    "print(\"Treatment group analysis\")\n",
    "printAnalysis(treatment)"
   ]
  },
  {
   "cell_type": "code",
   "execution_count": 9,
   "metadata": {},
   "outputs": [
    {
     "name": "stdout",
     "output_type": "stream",
     "text": [
      "School B analysis\n",
      "Family size more than 3:  0.61\n",
      "Receiving tuition:  0.57\n",
      "Mothers with degree:  0.3\n",
      "In a romantic relationship:  0.39\n",
      "======\n",
      "Family size more than 3:  0.65\n",
      "Receiving tuition:  0.3\n",
      "Mothers with degree:  0.17\n",
      "In a romantic relationship:  0.43\n",
      "Students in control group:  23\n",
      "Students in treatment group:  23\n"
     ]
    }
   ],
   "source": [
    "# Analyse school B\n",
    "with open('./School B.csv', 'rb') as f:\n",
    "    result = chardet.detect(f.read())\n",
    "b = pd.read_csv('./School B.csv', encoding=result['encoding'])\n",
    "\n",
    "print(\"School B analysis\")\n",
    "control, treatment = split(b)\n",
    "printAnalysis(control)\n",
    "print(\"======\")\n",
    "printAnalysis(treatment)\n",
    "\n",
    "print(\"Students in control group: \", control.shape[0])\n",
    "print(\"Students in treatment group: \", treatment.shape[0])"
   ]
  }
 ],
 "metadata": {
  "kernelspec": {
   "display_name": ".venv",
   "language": "python",
   "name": "python3"
  },
  "language_info": {
   "codemirror_mode": {
    "name": "ipython",
    "version": 3
   },
   "file_extension": ".py",
   "mimetype": "text/x-python",
   "name": "python",
   "nbconvert_exporter": "python",
   "pygments_lexer": "ipython3",
   "version": "3.12.2"
  }
 },
 "nbformat": 4,
 "nbformat_minor": 2
}

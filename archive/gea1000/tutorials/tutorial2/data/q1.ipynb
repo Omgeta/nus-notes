{
 "cells": [
  {
   "cell_type": "code",
   "execution_count": 10,
   "metadata": {},
   "outputs": [],
   "source": [
    "import pandas as pd\n",
    "import chardet\n",
    "import matplotlib.pyplot as plt\n",
    "import seaborn as sns"
   ]
  },
  {
   "cell_type": "markdown",
   "metadata": {},
   "source": [
    "# Reading the dataset"
   ]
  },
  {
   "cell_type": "code",
   "execution_count": 11,
   "metadata": {},
   "outputs": [
    {
     "data": {
      "text/html": [
       "<div>\n",
       "<style scoped>\n",
       "    .dataframe tbody tr th:only-of-type {\n",
       "        vertical-align: middle;\n",
       "    }\n",
       "\n",
       "    .dataframe tbody tr th {\n",
       "        vertical-align: top;\n",
       "    }\n",
       "\n",
       "    .dataframe thead th {\n",
       "        text-align: right;\n",
       "    }\n",
       "</style>\n",
       "<table border=\"1\" class=\"dataframe\">\n",
       "  <thead>\n",
       "    <tr style=\"text-align: right;\">\n",
       "      <th></th>\n",
       "      <th>year</th>\n",
       "      <th>use_monthly</th>\n",
       "      <th>recycle_monthly</th>\n",
       "      <th>stay_campus</th>\n",
       "      <th>foreigner</th>\n",
       "      <th>faculty</th>\n",
       "    </tr>\n",
       "  </thead>\n",
       "  <tbody>\n",
       "    <tr>\n",
       "      <th>0</th>\n",
       "      <td>3</td>\n",
       "      <td>Sometimes</td>\n",
       "      <td>0</td>\n",
       "      <td>Yes</td>\n",
       "      <td>No</td>\n",
       "      <td>Design and Engineering</td>\n",
       "    </tr>\n",
       "    <tr>\n",
       "      <th>1</th>\n",
       "      <td>3</td>\n",
       "      <td>Sometimes</td>\n",
       "      <td>0</td>\n",
       "      <td>Yes</td>\n",
       "      <td>No</td>\n",
       "      <td>Computing</td>\n",
       "    </tr>\n",
       "    <tr>\n",
       "      <th>2</th>\n",
       "      <td>4</td>\n",
       "      <td>Sometimes</td>\n",
       "      <td>0</td>\n",
       "      <td>No</td>\n",
       "      <td>No</td>\n",
       "      <td>Science</td>\n",
       "    </tr>\n",
       "    <tr>\n",
       "      <th>3</th>\n",
       "      <td>5</td>\n",
       "      <td>Sometimes</td>\n",
       "      <td>1</td>\n",
       "      <td>Yes</td>\n",
       "      <td>No</td>\n",
       "      <td>Design and Engineering</td>\n",
       "    </tr>\n",
       "    <tr>\n",
       "      <th>4</th>\n",
       "      <td>1</td>\n",
       "      <td>Often</td>\n",
       "      <td>3</td>\n",
       "      <td>No</td>\n",
       "      <td>No</td>\n",
       "      <td>Arts and Social Sciences</td>\n",
       "    </tr>\n",
       "  </tbody>\n",
       "</table>\n",
       "</div>"
      ],
      "text/plain": [
       "   year use_monthly  recycle_monthly stay_campus foreigner  \\\n",
       "0     3   Sometimes                0         Yes        No   \n",
       "1     3   Sometimes                0         Yes        No   \n",
       "2     4   Sometimes                0          No        No   \n",
       "3     5   Sometimes                1         Yes        No   \n",
       "4     1       Often                3          No        No   \n",
       "\n",
       "                    faculty  \n",
       "0    Design and Engineering  \n",
       "1                 Computing  \n",
       "2                   Science  \n",
       "3    Design and Engineering  \n",
       "4  Arts and Social Sciences  "
      ]
     },
     "execution_count": 11,
     "metadata": {},
     "output_type": "execute_result"
    }
   ],
   "source": [
    "# Load the dataset\n",
    "df = pd.read_csv('./recycling_survey.csv')\n",
    "df.head()"
   ]
  },
  {
   "cell_type": "markdown",
   "metadata": {},
   "source": [
    "# Analysis"
   ]
  },
  {
   "cell_type": "code",
   "execution_count": 12,
   "metadata": {},
   "outputs": [
    {
     "data": {
      "text/html": [
       "<div>\n",
       "<style scoped>\n",
       "    .dataframe tbody tr th:only-of-type {\n",
       "        vertical-align: middle;\n",
       "    }\n",
       "\n",
       "    .dataframe tbody tr th {\n",
       "        vertical-align: top;\n",
       "    }\n",
       "\n",
       "    .dataframe thead th {\n",
       "        text-align: right;\n",
       "    }\n",
       "</style>\n",
       "<table border=\"1\" class=\"dataframe\">\n",
       "  <thead>\n",
       "    <tr style=\"text-align: right;\">\n",
       "      <th>habit_category</th>\n",
       "      <th>Healthy</th>\n",
       "      <th>Unhealthy</th>\n",
       "    </tr>\n",
       "    <tr>\n",
       "      <th>usage_category</th>\n",
       "      <th></th>\n",
       "      <th></th>\n",
       "    </tr>\n",
       "  </thead>\n",
       "  <tbody>\n",
       "    <tr>\n",
       "      <th>High</th>\n",
       "      <td>0.015141</td>\n",
       "      <td>0.984859</td>\n",
       "    </tr>\n",
       "    <tr>\n",
       "      <th>Low</th>\n",
       "      <td>0.011419</td>\n",
       "      <td>0.988581</td>\n",
       "    </tr>\n",
       "  </tbody>\n",
       "</table>\n",
       "</div>"
      ],
      "text/plain": [
       "habit_category   Healthy  Unhealthy\n",
       "usage_category                     \n",
       "High            0.015141   0.984859\n",
       "Low             0.011419   0.988581"
      ]
     },
     "execution_count": 12,
     "metadata": {},
     "output_type": "execute_result"
    }
   ],
   "source": [
    "# Recode relevant columns\n",
    "df['usage_category'] = df['use_monthly'].apply(lambda x: 'Low' if x in ['Rarely', 'Seldom'] else 'High')\n",
    "df['habit_category'] = df['recycle_monthly'].apply(lambda x: 'Healthy' if x > 2 else 'Unhealthy')\n",
    "\n",
    "# Find percentages of high and low usage vs healthy habits\n",
    "# Group by usage category and calculate the proportion of healthy habits\n",
    "rates = df.groupby('usage_category')['habit_category'].value_counts(normalize=True).unstack()\n",
    "rates"
   ]
  },
  {
   "cell_type": "code",
   "execution_count": 28,
   "metadata": {},
   "outputs": [
    {
     "data": {
      "image/png": "[encoded data removed]",
      "text/plain": [
       "<Figure size 1000x600 with 1 Axes>"
      ]
     },
     "metadata": {},
     "output_type": "display_data"
    }
   ],
   "source": [
    "# Group by year and usage category, then calculate the proportion of habits\n",
    "grouped = df.groupby(['year', 'usage_category'])['habit_category'].value_counts(normalize=True).unstack()\n",
    "\n",
    "# Reset index to make the data easier to work with\n",
    "grouped = grouped.reset_index()\n",
    "\n",
    "# Set up the figure and axis\n",
    "plt.figure(figsize=(10, 6))\n",
    "\n",
    "# Plot stacked bars for each year\n",
    "for i, year in enumerate(grouped['year'].unique()):\n",
    "    year_data = grouped[grouped['year'] == year]\n",
    "    \n",
    "    # Plot low usage\n",
    "    plt.bar(i - 0.2, year_data[year_data['usage_category'] == 'Low']['Healthy'].values[0], width=0.4, label='Low Usage (Healthy)' if i == 0 else \"\", color='lightgreen')\n",
    "    plt.bar(i - 0.2, year_data[year_data['usage_category'] == 'Low']['Unhealthy'].values[0], width=0.4, bottom=year_data[year_data['usage_category'] == 'Low']['Healthy'].values[0], label='Low Usage (Unhealthy)' if i == 0 else \"\", color='lightcoral')\n",
    "    \n",
    "    # Plot high usage\n",
    "    plt.bar(i + 0.2, year_data[year_data['usage_category'] == 'High']['Healthy'].values[0], width=0.4, label='High Usage (Healthy)' if i == 0 else \"\", color='darkgreen')\n",
    "    plt.bar(i + 0.2, year_data[year_data['usage_category'] == 'High']['Unhealthy'].values[0], width=0.4, bottom=year_data[year_data['usage_category'] == 'High']['Healthy'].values[0], label='High Usage (Unhealthy)' if i == 0 else \"\", color='darkred')\n",
    "\n",
    "# Add labels and title\n",
    "plt.xlabel('Year')\n",
    "plt.ylabel('Proportion of Students')\n",
    "plt.title('Recycling Habits by Year and Paper/Cardboard Usage')\n",
    "plt.xticks(range(len(grouped['year'].unique())), grouped['year'].unique())\n",
    "plt.legend()\n",
    "plt.show()\n"
   ]
  },
  {
   "cell_type": "code",
   "execution_count": null,
   "metadata": {},
   "outputs": [],
   "source": []
  }
 ],
 "metadata": {
  "kernelspec": {
   "display_name": ".venv",
   "language": "python",
   "name": "python3"
  },
  "language_info": {
   "codemirror_mode": {
    "name": "ipython",
    "version": 3
   },
   "file_extension": ".py",
   "mimetype": "text/x-python",
   "name": "python",
   "nbconvert_exporter": "python",
   "pygments_lexer": "ipython3",
   "version": "3.12.2"
  }
 },
 "nbformat": 4,
 "nbformat_minor": 2
}
